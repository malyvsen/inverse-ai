{
 "cells": [
  {
   "cell_type": "markdown",
   "metadata": {},
   "source": [
    "# Movie plot processing\n",
    "We're reading a dataset containing movie summaries (`movies_metadata.csv` downloaded from https://www.kaggle.com/rounakbanik/the-movies-dataset). In the end, we want to have the titles, summaries and their corresponding embeddings for some well-known movies."
   ]
  },
  {
   "cell_type": "code",
   "execution_count": 1,
   "metadata": {},
   "outputs": [],
   "source": [
    "import pandas as pd\n",
    "import numpy as np\n",
    "import spacy\n",
    "from sklearn.decomposition import PCA\n",
    "%matplotlib inline\n",
    "import matplotlib.pyplot as plt"
   ]
  },
  {
   "cell_type": "code",
   "execution_count": 2,
   "metadata": {},
   "outputs": [
    {
     "name": "stdout",
     "output_type": "stream",
     "text": [
      "example summary: Led by Woody, Andy's toys live happily in his room until Andy's birthday brings Buzz Lightyear onto the scene. Afraid of losing his place in Andy's heart, Woody plots against Buzz. But when circumstances separate Buzz and Woody from their owner, the duo eventually learns to put aside their differences.\n",
      "number of movies: 45466\n"
     ]
    }
   ],
   "source": [
    "original = pd.read_csv('original.csv', low_memory=False)\n",
    "print(f'example summary: {original[\"overview\"][0]}')\n",
    "print(f'number of movies: {len(original)}')"
   ]
  },
  {
   "cell_type": "code",
   "execution_count": 3,
   "metadata": {},
   "outputs": [],
   "source": [
    "numeric = pd.DataFrame(original)\n",
    "numeric['popularity'] = pd.to_numeric(numeric['popularity'], errors='coerce')"
   ]
  },
  {
   "cell_type": "code",
   "execution_count": 4,
   "metadata": {},
   "outputs": [],
   "source": [
    "popular = numeric.nlargest(1024, 'popularity')"
   ]
  },
  {
   "cell_type": "code",
   "execution_count": 5,
   "metadata": {},
   "outputs": [],
   "source": [
    "processed = pd.DataFrame()\n",
    "processed['title'] = popular['original_title']\n",
    "processed['summary'] = popular['overview']"
   ]
  },
  {
   "cell_type": "code",
   "execution_count": 6,
   "metadata": {},
   "outputs": [
    {
     "data": {
      "text/html": [
       "<div>\n",
       "<style scoped>\n",
       "    .dataframe tbody tr th:only-of-type {\n",
       "        vertical-align: middle;\n",
       "    }\n",
       "\n",
       "    .dataframe tbody tr th {\n",
       "        vertical-align: top;\n",
       "    }\n",
       "\n",
       "    .dataframe thead th {\n",
       "        text-align: right;\n",
       "    }\n",
       "</style>\n",
       "<table border=\"1\" class=\"dataframe\">\n",
       "  <thead>\n",
       "    <tr style=\"text-align: right;\">\n",
       "      <th></th>\n",
       "      <th>title</th>\n",
       "      <th>summary</th>\n",
       "    </tr>\n",
       "  </thead>\n",
       "  <tbody>\n",
       "    <tr>\n",
       "      <th>30700</th>\n",
       "      <td>Minions</td>\n",
       "      <td>Minions Stuart, Kevin and Bob are recruited by...</td>\n",
       "    </tr>\n",
       "    <tr>\n",
       "      <th>33356</th>\n",
       "      <td>Wonder Woman</td>\n",
       "      <td>An Amazon princess comes to the world of Man t...</td>\n",
       "    </tr>\n",
       "    <tr>\n",
       "      <th>42222</th>\n",
       "      <td>Beauty and the Beast</td>\n",
       "      <td>A live-action adaptation of Disney's version o...</td>\n",
       "    </tr>\n",
       "    <tr>\n",
       "      <th>43644</th>\n",
       "      <td>Baby Driver</td>\n",
       "      <td>After being coerced into working for a crime b...</td>\n",
       "    </tr>\n",
       "    <tr>\n",
       "      <th>24455</th>\n",
       "      <td>Big Hero 6</td>\n",
       "      <td>The special bond that develops between plus-si...</td>\n",
       "    </tr>\n",
       "  </tbody>\n",
       "</table>\n",
       "</div>"
      ],
      "text/plain": [
       "                      title                                            summary\n",
       "30700               Minions  Minions Stuart, Kevin and Bob are recruited by...\n",
       "33356          Wonder Woman  An Amazon princess comes to the world of Man t...\n",
       "42222  Beauty and the Beast  A live-action adaptation of Disney's version o...\n",
       "43644           Baby Driver  After being coerced into working for a crime b...\n",
       "24455            Big Hero 6  The special bond that develops between plus-si..."
      ]
     },
     "execution_count": 6,
     "metadata": {},
     "output_type": "execute_result"
    }
   ],
   "source": [
    "processed.head()"
   ]
  },
  {
   "cell_type": "code",
   "execution_count": 7,
   "metadata": {},
   "outputs": [],
   "source": [
    "def harry_potter(df):\n",
    "    locations = df['title'].str.contains('Harry Potter')\n",
    "    return df.loc[locations]"
   ]
  },
  {
   "cell_type": "code",
   "execution_count": 8,
   "metadata": {},
   "outputs": [
    {
     "data": {
      "text/html": [
       "<div>\n",
       "<style scoped>\n",
       "    .dataframe tbody tr th:only-of-type {\n",
       "        vertical-align: middle;\n",
       "    }\n",
       "\n",
       "    .dataframe tbody tr th {\n",
       "        vertical-align: top;\n",
       "    }\n",
       "\n",
       "    .dataframe thead th {\n",
       "        text-align: right;\n",
       "    }\n",
       "</style>\n",
       "<table border=\"1\" class=\"dataframe\">\n",
       "  <thead>\n",
       "    <tr style=\"text-align: right;\">\n",
       "      <th></th>\n",
       "      <th>title</th>\n",
       "      <th>summary</th>\n",
       "    </tr>\n",
       "  </thead>\n",
       "  <tbody>\n",
       "    <tr>\n",
       "      <th>4766</th>\n",
       "      <td>Harry Potter and the Philosopher's Stone</td>\n",
       "      <td>Harry Potter has lived under the stairs at his...</td>\n",
       "    </tr>\n",
       "    <tr>\n",
       "      <th>5678</th>\n",
       "      <td>Harry Potter and the Chamber of Secrets</td>\n",
       "      <td>Ignoring threats to his life, Harry returns to...</td>\n",
       "    </tr>\n",
       "    <tr>\n",
       "      <th>7725</th>\n",
       "      <td>Harry Potter and the Prisoner of Azkaban</td>\n",
       "      <td>Harry, Ron and Hermione return to Hogwarts for...</td>\n",
       "    </tr>\n",
       "    <tr>\n",
       "      <th>17437</th>\n",
       "      <td>Harry Potter and the Deathly Hallows: Part 2</td>\n",
       "      <td>Harry, Ron and Hermione continue their quest t...</td>\n",
       "    </tr>\n",
       "    <tr>\n",
       "      <th>10554</th>\n",
       "      <td>Harry Potter and the Goblet of Fire</td>\n",
       "      <td>Harry starts his fourth year at Hogwarts, comp...</td>\n",
       "    </tr>\n",
       "    <tr>\n",
       "      <th>16128</th>\n",
       "      <td>Harry Potter and the Deathly Hallows: Part 1</td>\n",
       "      <td>Harry, Ron and Hermione walk away from their l...</td>\n",
       "    </tr>\n",
       "    <tr>\n",
       "      <th>11927</th>\n",
       "      <td>Harry Potter and the Order of the Phoenix</td>\n",
       "      <td>Returning for his fifth year of study at Hogwa...</td>\n",
       "    </tr>\n",
       "    <tr>\n",
       "      <th>13893</th>\n",
       "      <td>Harry Potter and the Half-Blood Prince</td>\n",
       "      <td>As Harry begins his sixth year at Hogwarts, he...</td>\n",
       "    </tr>\n",
       "  </tbody>\n",
       "</table>\n",
       "</div>"
      ],
      "text/plain": [
       "                                              title  \\\n",
       "4766       Harry Potter and the Philosopher's Stone   \n",
       "5678        Harry Potter and the Chamber of Secrets   \n",
       "7725       Harry Potter and the Prisoner of Azkaban   \n",
       "17437  Harry Potter and the Deathly Hallows: Part 2   \n",
       "10554           Harry Potter and the Goblet of Fire   \n",
       "16128  Harry Potter and the Deathly Hallows: Part 1   \n",
       "11927     Harry Potter and the Order of the Phoenix   \n",
       "13893        Harry Potter and the Half-Blood Prince   \n",
       "\n",
       "                                                 summary  \n",
       "4766   Harry Potter has lived under the stairs at his...  \n",
       "5678   Ignoring threats to his life, Harry returns to...  \n",
       "7725   Harry, Ron and Hermione return to Hogwarts for...  \n",
       "17437  Harry, Ron and Hermione continue their quest t...  \n",
       "10554  Harry starts his fourth year at Hogwarts, comp...  \n",
       "16128  Harry, Ron and Hermione walk away from their l...  \n",
       "11927  Returning for his fifth year of study at Hogwa...  \n",
       "13893  As Harry begins his sixth year at Hogwarts, he...  "
      ]
     },
     "execution_count": 8,
     "metadata": {},
     "output_type": "execute_result"
    }
   ],
   "source": [
    "harry_potter(processed)"
   ]
  },
  {
   "cell_type": "code",
   "execution_count": 9,
   "metadata": {},
   "outputs": [],
   "source": [
    "processed = processed.drop_duplicates(subset='title')\n",
    "processed = processed.drop_duplicates(subset='summary')"
   ]
  },
  {
   "cell_type": "code",
   "execution_count": 10,
   "metadata": {},
   "outputs": [
    {
     "data": {
      "text/html": [
       "<div>\n",
       "<style scoped>\n",
       "    .dataframe tbody tr th:only-of-type {\n",
       "        vertical-align: middle;\n",
       "    }\n",
       "\n",
       "    .dataframe tbody tr th {\n",
       "        vertical-align: top;\n",
       "    }\n",
       "\n",
       "    .dataframe thead th {\n",
       "        text-align: right;\n",
       "    }\n",
       "</style>\n",
       "<table border=\"1\" class=\"dataframe\">\n",
       "  <thead>\n",
       "    <tr style=\"text-align: right;\">\n",
       "      <th></th>\n",
       "      <th>title</th>\n",
       "      <th>summary</th>\n",
       "    </tr>\n",
       "  </thead>\n",
       "  <tbody>\n",
       "    <tr>\n",
       "      <th>4766</th>\n",
       "      <td>Harry Potter and the Philosopher's Stone</td>\n",
       "      <td>Harry Potter has lived under the stairs at his...</td>\n",
       "    </tr>\n",
       "    <tr>\n",
       "      <th>5678</th>\n",
       "      <td>Harry Potter and the Chamber of Secrets</td>\n",
       "      <td>Ignoring threats to his life, Harry returns to...</td>\n",
       "    </tr>\n",
       "    <tr>\n",
       "      <th>7725</th>\n",
       "      <td>Harry Potter and the Prisoner of Azkaban</td>\n",
       "      <td>Harry, Ron and Hermione return to Hogwarts for...</td>\n",
       "    </tr>\n",
       "    <tr>\n",
       "      <th>17437</th>\n",
       "      <td>Harry Potter and the Deathly Hallows: Part 2</td>\n",
       "      <td>Harry, Ron and Hermione continue their quest t...</td>\n",
       "    </tr>\n",
       "    <tr>\n",
       "      <th>10554</th>\n",
       "      <td>Harry Potter and the Goblet of Fire</td>\n",
       "      <td>Harry starts his fourth year at Hogwarts, comp...</td>\n",
       "    </tr>\n",
       "    <tr>\n",
       "      <th>16128</th>\n",
       "      <td>Harry Potter and the Deathly Hallows: Part 1</td>\n",
       "      <td>Harry, Ron and Hermione walk away from their l...</td>\n",
       "    </tr>\n",
       "    <tr>\n",
       "      <th>11927</th>\n",
       "      <td>Harry Potter and the Order of the Phoenix</td>\n",
       "      <td>Returning for his fifth year of study at Hogwa...</td>\n",
       "    </tr>\n",
       "    <tr>\n",
       "      <th>13893</th>\n",
       "      <td>Harry Potter and the Half-Blood Prince</td>\n",
       "      <td>As Harry begins his sixth year at Hogwarts, he...</td>\n",
       "    </tr>\n",
       "  </tbody>\n",
       "</table>\n",
       "</div>"
      ],
      "text/plain": [
       "                                              title  \\\n",
       "4766       Harry Potter and the Philosopher's Stone   \n",
       "5678        Harry Potter and the Chamber of Secrets   \n",
       "7725       Harry Potter and the Prisoner of Azkaban   \n",
       "17437  Harry Potter and the Deathly Hallows: Part 2   \n",
       "10554           Harry Potter and the Goblet of Fire   \n",
       "16128  Harry Potter and the Deathly Hallows: Part 1   \n",
       "11927     Harry Potter and the Order of the Phoenix   \n",
       "13893        Harry Potter and the Half-Blood Prince   \n",
       "\n",
       "                                                 summary  \n",
       "4766   Harry Potter has lived under the stairs at his...  \n",
       "5678   Ignoring threats to his life, Harry returns to...  \n",
       "7725   Harry, Ron and Hermione return to Hogwarts for...  \n",
       "17437  Harry, Ron and Hermione continue their quest t...  \n",
       "10554  Harry starts his fourth year at Hogwarts, comp...  \n",
       "16128  Harry, Ron and Hermione walk away from their l...  \n",
       "11927  Returning for his fifth year of study at Hogwa...  \n",
       "13893  As Harry begins his sixth year at Hogwarts, he...  "
      ]
     },
     "execution_count": 10,
     "metadata": {},
     "output_type": "execute_result"
    }
   ],
   "source": [
    "harry_potter(processed)"
   ]
  },
  {
   "cell_type": "code",
   "execution_count": 11,
   "metadata": {},
   "outputs": [
    {
     "data": {
      "text/plain": [
       "1014"
      ]
     },
     "execution_count": 11,
     "metadata": {},
     "output_type": "execute_result"
    }
   ],
   "source": [
    "len(processed)"
   ]
  },
  {
   "cell_type": "code",
   "execution_count": 12,
   "metadata": {},
   "outputs": [],
   "source": [
    "lengths = processed['summary'].map(len)\n",
    "processed = processed.loc[lengths > 64]"
   ]
  },
  {
   "cell_type": "code",
   "execution_count": 13,
   "metadata": {},
   "outputs": [
    {
     "data": {
      "text/html": [
       "<div>\n",
       "<style scoped>\n",
       "    .dataframe tbody tr th:only-of-type {\n",
       "        vertical-align: middle;\n",
       "    }\n",
       "\n",
       "    .dataframe tbody tr th {\n",
       "        vertical-align: top;\n",
       "    }\n",
       "\n",
       "    .dataframe thead th {\n",
       "        text-align: right;\n",
       "    }\n",
       "</style>\n",
       "<table border=\"1\" class=\"dataframe\">\n",
       "  <thead>\n",
       "    <tr style=\"text-align: right;\">\n",
       "      <th></th>\n",
       "      <th>title</th>\n",
       "      <th>summary</th>\n",
       "    </tr>\n",
       "  </thead>\n",
       "  <tbody>\n",
       "    <tr>\n",
       "      <th>4766</th>\n",
       "      <td>Harry Potter and the Philosopher's Stone</td>\n",
       "      <td>Harry Potter has lived under the stairs at his...</td>\n",
       "    </tr>\n",
       "    <tr>\n",
       "      <th>5678</th>\n",
       "      <td>Harry Potter and the Chamber of Secrets</td>\n",
       "      <td>Ignoring threats to his life, Harry returns to...</td>\n",
       "    </tr>\n",
       "    <tr>\n",
       "      <th>7725</th>\n",
       "      <td>Harry Potter and the Prisoner of Azkaban</td>\n",
       "      <td>Harry, Ron and Hermione return to Hogwarts for...</td>\n",
       "    </tr>\n",
       "    <tr>\n",
       "      <th>17437</th>\n",
       "      <td>Harry Potter and the Deathly Hallows: Part 2</td>\n",
       "      <td>Harry, Ron and Hermione continue their quest t...</td>\n",
       "    </tr>\n",
       "    <tr>\n",
       "      <th>10554</th>\n",
       "      <td>Harry Potter and the Goblet of Fire</td>\n",
       "      <td>Harry starts his fourth year at Hogwarts, comp...</td>\n",
       "    </tr>\n",
       "    <tr>\n",
       "      <th>16128</th>\n",
       "      <td>Harry Potter and the Deathly Hallows: Part 1</td>\n",
       "      <td>Harry, Ron and Hermione walk away from their l...</td>\n",
       "    </tr>\n",
       "    <tr>\n",
       "      <th>11927</th>\n",
       "      <td>Harry Potter and the Order of the Phoenix</td>\n",
       "      <td>Returning for his fifth year of study at Hogwa...</td>\n",
       "    </tr>\n",
       "    <tr>\n",
       "      <th>13893</th>\n",
       "      <td>Harry Potter and the Half-Blood Prince</td>\n",
       "      <td>As Harry begins his sixth year at Hogwarts, he...</td>\n",
       "    </tr>\n",
       "  </tbody>\n",
       "</table>\n",
       "</div>"
      ],
      "text/plain": [
       "                                              title  \\\n",
       "4766       Harry Potter and the Philosopher's Stone   \n",
       "5678        Harry Potter and the Chamber of Secrets   \n",
       "7725       Harry Potter and the Prisoner of Azkaban   \n",
       "17437  Harry Potter and the Deathly Hallows: Part 2   \n",
       "10554           Harry Potter and the Goblet of Fire   \n",
       "16128  Harry Potter and the Deathly Hallows: Part 1   \n",
       "11927     Harry Potter and the Order of the Phoenix   \n",
       "13893        Harry Potter and the Half-Blood Prince   \n",
       "\n",
       "                                                 summary  \n",
       "4766   Harry Potter has lived under the stairs at his...  \n",
       "5678   Ignoring threats to his life, Harry returns to...  \n",
       "7725   Harry, Ron and Hermione return to Hogwarts for...  \n",
       "17437  Harry, Ron and Hermione continue their quest t...  \n",
       "10554  Harry starts his fourth year at Hogwarts, comp...  \n",
       "16128  Harry, Ron and Hermione walk away from their l...  \n",
       "11927  Returning for his fifth year of study at Hogwa...  \n",
       "13893  As Harry begins his sixth year at Hogwarts, he...  "
      ]
     },
     "execution_count": 13,
     "metadata": {},
     "output_type": "execute_result"
    }
   ],
   "source": [
    "harry_potter(processed)"
   ]
  },
  {
   "cell_type": "code",
   "execution_count": 14,
   "metadata": {},
   "outputs": [
    {
     "data": {
      "text/plain": [
       "1012"
      ]
     },
     "execution_count": 14,
     "metadata": {},
     "output_type": "execute_result"
    }
   ],
   "source": [
    "len(processed)"
   ]
  },
  {
   "cell_type": "markdown",
   "metadata": {},
   "source": [
    "## It's embedding time!"
   ]
  },
  {
   "cell_type": "code",
   "execution_count": 15,
   "metadata": {},
   "outputs": [],
   "source": [
    "nlp = spacy.load('en_core_web_lg')"
   ]
  },
  {
   "cell_type": "code",
   "execution_count": 16,
   "metadata": {},
   "outputs": [
    {
     "name": "stdout",
     "output_type": "stream",
     "text": [
      "example vector: float32, len: 300\n"
     ]
    }
   ],
   "source": [
    "summary_vectors = [nlp(summary).vector for summary in processed['summary']]\n",
    "print(f'example vector: {summary_vectors[0].dtype}, len: {len(summary_vectors[0])}')"
   ]
  },
  {
   "cell_type": "code",
   "execution_count": 17,
   "metadata": {},
   "outputs": [
    {
     "data": {
      "image/png": "[encoded data removed]",
      "text/plain": [
       "<Figure size 432x288 with 1 Axes>"
      ]
     },
     "metadata": {
      "needs_background": "light"
     },
     "output_type": "display_data"
    }
   ],
   "source": [
    "pca = PCA().fit(summary_vectors)\n",
    "plt.title('variance vs principal components')\n",
    "plt.plot(np.cumsum(pca.explained_variance_ratio_))\n",
    "plt.xlabel('number of principal components')\n",
    "plt.ylabel('cumulative variance explained')\n",
    "plt.show()"
   ]
  },
  {
   "cell_type": "markdown",
   "metadata": {},
   "source": [
    "Seems like we can use the 64 first principal components for a decent trade-off."
   ]
  },
  {
   "cell_type": "code",
   "execution_count": 18,
   "metadata": {},
   "outputs": [
    {
     "data": {
      "image/png": "[encoded data removed]",
      "text/plain": [
       "<Figure size 432x288 with 1 Axes>"
      ]
     },
     "metadata": {
      "needs_background": "light"
     },
     "output_type": "display_data"
    }
   ],
   "source": [
    "summary_vectors_reduced = pca.transform(summary_vectors)\n",
    "plt.title('distribution of norms of reduced vectors')\n",
    "plt.hist([np.linalg.norm(vector) for vector in summary_vectors_reduced])\n",
    "plt.show()"
   ]
  },
  {
   "cell_type": "code",
   "execution_count": 21,
   "metadata": {},
   "outputs": [
    {
     "data": {
      "text/html": [
       "<div>\n",
       "<style scoped>\n",
       "    .dataframe tbody tr th:only-of-type {\n",
       "        vertical-align: middle;\n",
       "    }\n",
       "\n",
       "    .dataframe tbody tr th {\n",
       "        vertical-align: top;\n",
       "    }\n",
       "\n",
       "    .dataframe thead th {\n",
       "        text-align: right;\n",
       "    }\n",
       "</style>\n",
       "<table border=\"1\" class=\"dataframe\">\n",
       "  <thead>\n",
       "    <tr style=\"text-align: right;\">\n",
       "      <th></th>\n",
       "      <th>title</th>\n",
       "      <th>summary</th>\n",
       "      <th>vector</th>\n",
       "    </tr>\n",
       "  </thead>\n",
       "  <tbody>\n",
       "    <tr>\n",
       "      <th>4766</th>\n",
       "      <td>Harry Potter and the Philosopher's Stone</td>\n",
       "      <td>Harry Potter has lived under the stairs at his...</td>\n",
       "      <td>[-0.23976451058209547, 0.2751888379038316, -0....</td>\n",
       "    </tr>\n",
       "    <tr>\n",
       "      <th>5678</th>\n",
       "      <td>Harry Potter and the Chamber of Secrets</td>\n",
       "      <td>Ignoring threats to his life, Harry returns to...</td>\n",
       "      <td>[0.42926519982834355, 0.10319561763565809, -0....</td>\n",
       "    </tr>\n",
       "    <tr>\n",
       "      <th>7725</th>\n",
       "      <td>Harry Potter and the Prisoner of Azkaban</td>\n",
       "      <td>Harry, Ron and Hermione return to Hogwarts for...</td>\n",
       "      <td>[0.2415661298185778, 0.2537221023699368, 0.274...</td>\n",
       "    </tr>\n",
       "    <tr>\n",
       "      <th>17437</th>\n",
       "      <td>Harry Potter and the Deathly Hallows: Part 2</td>\n",
       "      <td>Harry, Ron and Hermione continue their quest t...</td>\n",
       "      <td>[0.2052952980150255, 0.07887802664689465, 0.16...</td>\n",
       "    </tr>\n",
       "    <tr>\n",
       "      <th>10554</th>\n",
       "      <td>Harry Potter and the Goblet of Fire</td>\n",
       "      <td>Harry starts his fourth year at Hogwarts, comp...</td>\n",
       "      <td>[0.45008406825314656, 0.26288261303922744, 0.1...</td>\n",
       "    </tr>\n",
       "    <tr>\n",
       "      <th>16128</th>\n",
       "      <td>Harry Potter and the Deathly Hallows: Part 1</td>\n",
       "      <td>Harry, Ron and Hermione walk away from their l...</td>\n",
       "      <td>[0.24198656336714344, 0.1526582054818701, 0.26...</td>\n",
       "    </tr>\n",
       "    <tr>\n",
       "      <th>11927</th>\n",
       "      <td>Harry Potter and the Order of the Phoenix</td>\n",
       "      <td>Returning for his fifth year of study at Hogwa...</td>\n",
       "      <td>[0.00028371150767723605, -0.07694055172516309,...</td>\n",
       "    </tr>\n",
       "    <tr>\n",
       "      <th>13893</th>\n",
       "      <td>Harry Potter and the Half-Blood Prince</td>\n",
       "      <td>As Harry begins his sixth year at Hogwarts, he...</td>\n",
       "      <td>[0.06337336067400161, 0.20558385312643662, 0.0...</td>\n",
       "    </tr>\n",
       "  </tbody>\n",
       "</table>\n",
       "</div>"
      ],
      "text/plain": [
       "                                              title  \\\n",
       "4766       Harry Potter and the Philosopher's Stone   \n",
       "5678        Harry Potter and the Chamber of Secrets   \n",
       "7725       Harry Potter and the Prisoner of Azkaban   \n",
       "17437  Harry Potter and the Deathly Hallows: Part 2   \n",
       "10554           Harry Potter and the Goblet of Fire   \n",
       "16128  Harry Potter and the Deathly Hallows: Part 1   \n",
       "11927     Harry Potter and the Order of the Phoenix   \n",
       "13893        Harry Potter and the Half-Blood Prince   \n",
       "\n",
       "                                                 summary  \\\n",
       "4766   Harry Potter has lived under the stairs at his...   \n",
       "5678   Ignoring threats to his life, Harry returns to...   \n",
       "7725   Harry, Ron and Hermione return to Hogwarts for...   \n",
       "17437  Harry, Ron and Hermione continue their quest t...   \n",
       "10554  Harry starts his fourth year at Hogwarts, comp...   \n",
       "16128  Harry, Ron and Hermione walk away from their l...   \n",
       "11927  Returning for his fifth year of study at Hogwa...   \n",
       "13893  As Harry begins his sixth year at Hogwarts, he...   \n",
       "\n",
       "                                                  vector  \n",
       "4766   [-0.23976451058209547, 0.2751888379038316, -0....  \n",
       "5678   [0.42926519982834355, 0.10319561763565809, -0....  \n",
       "7725   [0.2415661298185778, 0.2537221023699368, 0.274...  \n",
       "17437  [0.2052952980150255, 0.07887802664689465, 0.16...  \n",
       "10554  [0.45008406825314656, 0.26288261303922744, 0.1...  \n",
       "16128  [0.24198656336714344, 0.1526582054818701, 0.26...  \n",
       "11927  [0.00028371150767723605, -0.07694055172516309,...  \n",
       "13893  [0.06337336067400161, 0.20558385312643662, 0.0...  "
      ]
     },
     "execution_count": 21,
     "metadata": {},
     "output_type": "execute_result"
    }
   ],
   "source": [
    "processed['vector'] = list(summary_vectors_reduced)\n",
    "harry_potter(processed)"
   ]
  },
  {
   "cell_type": "code",
   "execution_count": 22,
   "metadata": {},
   "outputs": [],
   "source": [
    "processed.to_csv('processed.csv', index=False)"
   ]
  }
 ],
 "metadata": {
  "kernelspec": {
   "display_name": "inverse-ai-venv",
   "language": "python",
   "name": "inverse-ai-venv"
  },
  "language_info": {
   "codemirror_mode": {
    "name": "ipython",
    "version": 3
   },
   "file_extension": ".py",
   "mimetype": "text/x-python",
   "name": "python",
   "nbconvert_exporter": "python",
   "pygments_lexer": "ipython3",
   "version": "3.7.5"
  }
 },
 "nbformat": 4,
 "nbformat_minor": 2
}
