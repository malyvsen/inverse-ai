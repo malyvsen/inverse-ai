{
 "cells": [
  {
   "cell_type": "markdown",
   "metadata": {},
   "source": [
    "# Movie plot processing\n",
    "We're reading a dataset containing movie summaries (`movies_metadata.csv` downloaded from https://www.kaggle.com/rounakbanik/the-movies-dataset). In the end, we want to have the titles, summaries and their corresponding embeddings for some well-known movies."
   ]
  },
  {
   "cell_type": "code",
   "execution_count": 1,
   "metadata": {},
   "outputs": [],
   "source": [
    "import pandas as pd\n",
    "import spacy"
   ]
  },
  {
   "cell_type": "code",
   "execution_count": 2,
   "metadata": {},
   "outputs": [
    {
     "name": "stdout",
     "output_type": "stream",
     "text": [
      "example summary: Led by Woody, Andy's toys live happily in his room until Andy's birthday brings Buzz Lightyear onto the scene. Afraid of losing his place in Andy's heart, Woody plots against Buzz. But when circumstances separate Buzz and Woody from their owner, the duo eventually learns to put aside their differences.\n",
      "number of movies: 45466\n"
     ]
    }
   ],
   "source": [
    "original = pd.read_csv('original.csv', low_memory=False)\n",
    "print(f'example summary: {original[\"overview\"][0]}')\n",
    "print(f'number of movies: {len(original)}')"
   ]
  },
  {
   "cell_type": "code",
   "execution_count": 3,
   "metadata": {},
   "outputs": [],
   "source": [
    "numeric = pd.DataFrame(original)\n",
    "numeric['popularity'] = pd.to_numeric(numeric['popularity'], errors='coerce')"
   ]
  },
  {
   "cell_type": "code",
   "execution_count": 4,
   "metadata": {},
   "outputs": [],
   "source": [
    "popular = numeric.nlargest(1024, 'popularity')"
   ]
  },
  {
   "cell_type": "code",
   "execution_count": 5,
   "metadata": {},
   "outputs": [],
   "source": [
    "processed = pd.DataFrame()\n",
    "processed['title'] = popular['original_title']\n",
    "processed['summary'] = popular['overview']"
   ]
  },
  {
   "cell_type": "code",
   "execution_count": 6,
   "metadata": {},
   "outputs": [
    {
     "data": {
      "text/html": [
       "<div>\n",
       "<style scoped>\n",
       "    .dataframe tbody tr th:only-of-type {\n",
       "        vertical-align: middle;\n",
       "    }\n",
       "\n",
       "    .dataframe tbody tr th {\n",
       "        vertical-align: top;\n",
       "    }\n",
       "\n",
       "    .dataframe thead th {\n",
       "        text-align: right;\n",
       "    }\n",
       "</style>\n",
       "<table border=\"1\" class=\"dataframe\">\n",
       "  <thead>\n",
       "    <tr style=\"text-align: right;\">\n",
       "      <th></th>\n",
       "      <th>title</th>\n",
       "      <th>summary</th>\n",
       "    </tr>\n",
       "  </thead>\n",
       "  <tbody>\n",
       "    <tr>\n",
       "      <th>30700</th>\n",
       "      <td>Minions</td>\n",
       "      <td>Minions Stuart, Kevin and Bob are recruited by...</td>\n",
       "    </tr>\n",
       "    <tr>\n",
       "      <th>33356</th>\n",
       "      <td>Wonder Woman</td>\n",
       "      <td>An Amazon princess comes to the world of Man t...</td>\n",
       "    </tr>\n",
       "    <tr>\n",
       "      <th>42222</th>\n",
       "      <td>Beauty and the Beast</td>\n",
       "      <td>A live-action adaptation of Disney's version o...</td>\n",
       "    </tr>\n",
       "    <tr>\n",
       "      <th>43644</th>\n",
       "      <td>Baby Driver</td>\n",
       "      <td>After being coerced into working for a crime b...</td>\n",
       "    </tr>\n",
       "    <tr>\n",
       "      <th>24455</th>\n",
       "      <td>Big Hero 6</td>\n",
       "      <td>The special bond that develops between plus-si...</td>\n",
       "    </tr>\n",
       "  </tbody>\n",
       "</table>\n",
       "</div>"
      ],
      "text/plain": [
       "                      title                                            summary\n",
       "30700               Minions  Minions Stuart, Kevin and Bob are recruited by...\n",
       "33356          Wonder Woman  An Amazon princess comes to the world of Man t...\n",
       "42222  Beauty and the Beast  A live-action adaptation of Disney's version o...\n",
       "43644           Baby Driver  After being coerced into working for a crime b...\n",
       "24455            Big Hero 6  The special bond that develops between plus-si..."
      ]
     },
     "execution_count": 6,
     "metadata": {},
     "output_type": "execute_result"
    }
   ],
   "source": [
    "processed.head()"
   ]
  },
  {
   "cell_type": "code",
   "execution_count": 7,
   "metadata": {},
   "outputs": [],
   "source": [
    "def harry_potter(df):\n",
    "    locations = df['title'].str.contains('Harry Potter')\n",
    "    return df.loc[locations]"
   ]
  },
  {
   "cell_type": "code",
   "execution_count": 8,
   "metadata": {},
   "outputs": [
    {
     "data": {
      "text/html": [
       "<div>\n",
       "<style scoped>\n",
       "    .dataframe tbody tr th:only-of-type {\n",
       "        vertical-align: middle;\n",
       "    }\n",
       "\n",
       "    .dataframe tbody tr th {\n",
       "        vertical-align: top;\n",
       "    }\n",
       "\n",
       "    .dataframe thead th {\n",
       "        text-align: right;\n",
       "    }\n",
       "</style>\n",
       "<table border=\"1\" class=\"dataframe\">\n",
       "  <thead>\n",
       "    <tr style=\"text-align: right;\">\n",
       "      <th></th>\n",
       "      <th>title</th>\n",
       "      <th>summary</th>\n",
       "    </tr>\n",
       "  </thead>\n",
       "  <tbody>\n",
       "    <tr>\n",
       "      <th>4766</th>\n",
       "      <td>Harry Potter and the Philosopher's Stone</td>\n",
       "      <td>Harry Potter has lived under the stairs at his...</td>\n",
       "    </tr>\n",
       "    <tr>\n",
       "      <th>5678</th>\n",
       "      <td>Harry Potter and the Chamber of Secrets</td>\n",
       "      <td>Ignoring threats to his life, Harry returns to...</td>\n",
       "    </tr>\n",
       "    <tr>\n",
       "      <th>7725</th>\n",
       "      <td>Harry Potter and the Prisoner of Azkaban</td>\n",
       "      <td>Harry, Ron and Hermione return to Hogwarts for...</td>\n",
       "    </tr>\n",
       "    <tr>\n",
       "      <th>17437</th>\n",
       "      <td>Harry Potter and the Deathly Hallows: Part 2</td>\n",
       "      <td>Harry, Ron and Hermione continue their quest t...</td>\n",
       "    </tr>\n",
       "    <tr>\n",
       "      <th>10554</th>\n",
       "      <td>Harry Potter and the Goblet of Fire</td>\n",
       "      <td>Harry starts his fourth year at Hogwarts, comp...</td>\n",
       "    </tr>\n",
       "    <tr>\n",
       "      <th>16128</th>\n",
       "      <td>Harry Potter and the Deathly Hallows: Part 1</td>\n",
       "      <td>Harry, Ron and Hermione walk away from their l...</td>\n",
       "    </tr>\n",
       "    <tr>\n",
       "      <th>11927</th>\n",
       "      <td>Harry Potter and the Order of the Phoenix</td>\n",
       "      <td>Returning for his fifth year of study at Hogwa...</td>\n",
       "    </tr>\n",
       "    <tr>\n",
       "      <th>13893</th>\n",
       "      <td>Harry Potter and the Half-Blood Prince</td>\n",
       "      <td>As Harry begins his sixth year at Hogwarts, he...</td>\n",
       "    </tr>\n",
       "  </tbody>\n",
       "</table>\n",
       "</div>"
      ],
      "text/plain": [
       "                                              title  \\\n",
       "4766       Harry Potter and the Philosopher's Stone   \n",
       "5678        Harry Potter and the Chamber of Secrets   \n",
       "7725       Harry Potter and the Prisoner of Azkaban   \n",
       "17437  Harry Potter and the Deathly Hallows: Part 2   \n",
       "10554           Harry Potter and the Goblet of Fire   \n",
       "16128  Harry Potter and the Deathly Hallows: Part 1   \n",
       "11927     Harry Potter and the Order of the Phoenix   \n",
       "13893        Harry Potter and the Half-Blood Prince   \n",
       "\n",
       "                                                 summary  \n",
       "4766   Harry Potter has lived under the stairs at his...  \n",
       "5678   Ignoring threats to his life, Harry returns to...  \n",
       "7725   Harry, Ron and Hermione return to Hogwarts for...  \n",
       "17437  Harry, Ron and Hermione continue their quest t...  \n",
       "10554  Harry starts his fourth year at Hogwarts, comp...  \n",
       "16128  Harry, Ron and Hermione walk away from their l...  \n",
       "11927  Returning for his fifth year of study at Hogwa...  \n",
       "13893  As Harry begins his sixth year at Hogwarts, he...  "
      ]
     },
     "execution_count": 8,
     "metadata": {},
     "output_type": "execute_result"
    }
   ],
   "source": [
    "harry_potter(processed)"
   ]
  },
  {
   "cell_type": "code",
   "execution_count": 9,
   "metadata": {},
   "outputs": [],
   "source": [
    "processed = processed.drop_duplicates(subset='title')\n",
    "processed = processed.drop_duplicates(subset='summary')"
   ]
  },
  {
   "cell_type": "code",
   "execution_count": 10,
   "metadata": {},
   "outputs": [
    {
     "data": {
      "text/html": [
       "<div>\n",
       "<style scoped>\n",
       "    .dataframe tbody tr th:only-of-type {\n",
       "        vertical-align: middle;\n",
       "    }\n",
       "\n",
       "    .dataframe tbody tr th {\n",
       "        vertical-align: top;\n",
       "    }\n",
       "\n",
       "    .dataframe thead th {\n",
       "        text-align: right;\n",
       "    }\n",
       "</style>\n",
       "<table border=\"1\" class=\"dataframe\">\n",
       "  <thead>\n",
       "    <tr style=\"text-align: right;\">\n",
       "      <th></th>\n",
       "      <th>title</th>\n",
       "      <th>summary</th>\n",
       "    </tr>\n",
       "  </thead>\n",
       "  <tbody>\n",
       "    <tr>\n",
       "      <th>4766</th>\n",
       "      <td>Harry Potter and the Philosopher's Stone</td>\n",
       "      <td>Harry Potter has lived under the stairs at his...</td>\n",
       "    </tr>\n",
       "    <tr>\n",
       "      <th>5678</th>\n",
       "      <td>Harry Potter and the Chamber of Secrets</td>\n",
       "      <td>Ignoring threats to his life, Harry returns to...</td>\n",
       "    </tr>\n",
       "    <tr>\n",
       "      <th>7725</th>\n",
       "      <td>Harry Potter and the Prisoner of Azkaban</td>\n",
       "      <td>Harry, Ron and Hermione return to Hogwarts for...</td>\n",
       "    </tr>\n",
       "    <tr>\n",
       "      <th>17437</th>\n",
       "      <td>Harry Potter and the Deathly Hallows: Part 2</td>\n",
       "      <td>Harry, Ron and Hermione continue their quest t...</td>\n",
       "    </tr>\n",
       "    <tr>\n",
       "      <th>10554</th>\n",
       "      <td>Harry Potter and the Goblet of Fire</td>\n",
       "      <td>Harry starts his fourth year at Hogwarts, comp...</td>\n",
       "    </tr>\n",
       "    <tr>\n",
       "      <th>16128</th>\n",
       "      <td>Harry Potter and the Deathly Hallows: Part 1</td>\n",
       "      <td>Harry, Ron and Hermione walk away from their l...</td>\n",
       "    </tr>\n",
       "    <tr>\n",
       "      <th>11927</th>\n",
       "      <td>Harry Potter and the Order of the Phoenix</td>\n",
       "      <td>Returning for his fifth year of study at Hogwa...</td>\n",
       "    </tr>\n",
       "    <tr>\n",
       "      <th>13893</th>\n",
       "      <td>Harry Potter and the Half-Blood Prince</td>\n",
       "      <td>As Harry begins his sixth year at Hogwarts, he...</td>\n",
       "    </tr>\n",
       "  </tbody>\n",
       "</table>\n",
       "</div>"
      ],
      "text/plain": [
       "                                              title  \\\n",
       "4766       Harry Potter and the Philosopher's Stone   \n",
       "5678        Harry Potter and the Chamber of Secrets   \n",
       "7725       Harry Potter and the Prisoner of Azkaban   \n",
       "17437  Harry Potter and the Deathly Hallows: Part 2   \n",
       "10554           Harry Potter and the Goblet of Fire   \n",
       "16128  Harry Potter and the Deathly Hallows: Part 1   \n",
       "11927     Harry Potter and the Order of the Phoenix   \n",
       "13893        Harry Potter and the Half-Blood Prince   \n",
       "\n",
       "                                                 summary  \n",
       "4766   Harry Potter has lived under the stairs at his...  \n",
       "5678   Ignoring threats to his life, Harry returns to...  \n",
       "7725   Harry, Ron and Hermione return to Hogwarts for...  \n",
       "17437  Harry, Ron and Hermione continue their quest t...  \n",
       "10554  Harry starts his fourth year at Hogwarts, comp...  \n",
       "16128  Harry, Ron and Hermione walk away from their l...  \n",
       "11927  Returning for his fifth year of study at Hogwa...  \n",
       "13893  As Harry begins his sixth year at Hogwarts, he...  "
      ]
     },
     "execution_count": 10,
     "metadata": {},
     "output_type": "execute_result"
    }
   ],
   "source": [
    "harry_potter(processed)"
   ]
  },
  {
   "cell_type": "code",
   "execution_count": 11,
   "metadata": {},
   "outputs": [
    {
     "data": {
      "text/plain": [
       "1014"
      ]
     },
     "execution_count": 11,
     "metadata": {},
     "output_type": "execute_result"
    }
   ],
   "source": [
    "len(processed)"
   ]
  },
  {
   "cell_type": "code",
   "execution_count": 12,
   "metadata": {},
   "outputs": [],
   "source": [
    "lengths = processed['summary'].map(len)\n",
    "okay_length = (lengths > 64)# & (lengths < 8192)\n",
    "processed = processed.loc[okay_length]"
   ]
  },
  {
   "cell_type": "code",
   "execution_count": 13,
   "metadata": {},
   "outputs": [
    {
     "data": {
      "text/html": [
       "<div>\n",
       "<style scoped>\n",
       "    .dataframe tbody tr th:only-of-type {\n",
       "        vertical-align: middle;\n",
       "    }\n",
       "\n",
       "    .dataframe tbody tr th {\n",
       "        vertical-align: top;\n",
       "    }\n",
       "\n",
       "    .dataframe thead th {\n",
       "        text-align: right;\n",
       "    }\n",
       "</style>\n",
       "<table border=\"1\" class=\"dataframe\">\n",
       "  <thead>\n",
       "    <tr style=\"text-align: right;\">\n",
       "      <th></th>\n",
       "      <th>title</th>\n",
       "      <th>summary</th>\n",
       "    </tr>\n",
       "  </thead>\n",
       "  <tbody>\n",
       "    <tr>\n",
       "      <th>4766</th>\n",
       "      <td>Harry Potter and the Philosopher's Stone</td>\n",
       "      <td>Harry Potter has lived under the stairs at his...</td>\n",
       "    </tr>\n",
       "    <tr>\n",
       "      <th>5678</th>\n",
       "      <td>Harry Potter and the Chamber of Secrets</td>\n",
       "      <td>Ignoring threats to his life, Harry returns to...</td>\n",
       "    </tr>\n",
       "    <tr>\n",
       "      <th>7725</th>\n",
       "      <td>Harry Potter and the Prisoner of Azkaban</td>\n",
       "      <td>Harry, Ron and Hermione return to Hogwarts for...</td>\n",
       "    </tr>\n",
       "    <tr>\n",
       "      <th>17437</th>\n",
       "      <td>Harry Potter and the Deathly Hallows: Part 2</td>\n",
       "      <td>Harry, Ron and Hermione continue their quest t...</td>\n",
       "    </tr>\n",
       "    <tr>\n",
       "      <th>10554</th>\n",
       "      <td>Harry Potter and the Goblet of Fire</td>\n",
       "      <td>Harry starts his fourth year at Hogwarts, comp...</td>\n",
       "    </tr>\n",
       "    <tr>\n",
       "      <th>16128</th>\n",
       "      <td>Harry Potter and the Deathly Hallows: Part 1</td>\n",
       "      <td>Harry, Ron and Hermione walk away from their l...</td>\n",
       "    </tr>\n",
       "    <tr>\n",
       "      <th>11927</th>\n",
       "      <td>Harry Potter and the Order of the Phoenix</td>\n",
       "      <td>Returning for his fifth year of study at Hogwa...</td>\n",
       "    </tr>\n",
       "    <tr>\n",
       "      <th>13893</th>\n",
       "      <td>Harry Potter and the Half-Blood Prince</td>\n",
       "      <td>As Harry begins his sixth year at Hogwarts, he...</td>\n",
       "    </tr>\n",
       "  </tbody>\n",
       "</table>\n",
       "</div>"
      ],
      "text/plain": [
       "                                              title  \\\n",
       "4766       Harry Potter and the Philosopher's Stone   \n",
       "5678        Harry Potter and the Chamber of Secrets   \n",
       "7725       Harry Potter and the Prisoner of Azkaban   \n",
       "17437  Harry Potter and the Deathly Hallows: Part 2   \n",
       "10554           Harry Potter and the Goblet of Fire   \n",
       "16128  Harry Potter and the Deathly Hallows: Part 1   \n",
       "11927     Harry Potter and the Order of the Phoenix   \n",
       "13893        Harry Potter and the Half-Blood Prince   \n",
       "\n",
       "                                                 summary  \n",
       "4766   Harry Potter has lived under the stairs at his...  \n",
       "5678   Ignoring threats to his life, Harry returns to...  \n",
       "7725   Harry, Ron and Hermione return to Hogwarts for...  \n",
       "17437  Harry, Ron and Hermione continue their quest t...  \n",
       "10554  Harry starts his fourth year at Hogwarts, comp...  \n",
       "16128  Harry, Ron and Hermione walk away from their l...  \n",
       "11927  Returning for his fifth year of study at Hogwa...  \n",
       "13893  As Harry begins his sixth year at Hogwarts, he...  "
      ]
     },
     "execution_count": 13,
     "metadata": {},
     "output_type": "execute_result"
    }
   ],
   "source": [
    "harry_potter(processed)"
   ]
  },
  {
   "cell_type": "code",
   "execution_count": 14,
   "metadata": {},
   "outputs": [
    {
     "data": {
      "text/plain": [
       "1012"
      ]
     },
     "execution_count": 14,
     "metadata": {},
     "output_type": "execute_result"
    }
   ],
   "source": [
    "len(processed)"
   ]
  },
  {
   "cell_type": "markdown",
   "metadata": {},
   "source": [
    "## It's embedding time!"
   ]
  },
  {
   "cell_type": "code",
   "execution_count": 15,
   "metadata": {},
   "outputs": [],
   "source": [
    "nlp = spacy.load('en_core_web_lg')"
   ]
  },
  {
   "cell_type": "code",
   "execution_count": 17,
   "metadata": {},
   "outputs": [],
   "source": [
    "title_vectors = [nlp(title).vector for title in processed['title']]"
   ]
  },
  {
   "cell_type": "code",
   "execution_count": 18,
   "metadata": {},
   "outputs": [
    {
     "name": "stdout",
     "output_type": "stream",
     "text": [
      "example title vector: float32, len: 300\n"
     ]
    }
   ],
   "source": [
    "print(f'example title vector: {title_vectors[0].dtype}, len: {len(title_vectors[0])}')"
   ]
  },
  {
   "cell_type": "code",
   "execution_count": 19,
   "metadata": {},
   "outputs": [],
   "source": [
    "processed['title_vector'] = title_vectors"
   ]
  },
  {
   "cell_type": "code",
   "execution_count": 20,
   "metadata": {},
   "outputs": [],
   "source": [
    "summary_vectors = [nlp(summary).vector for summary in processed['summary']]\n",
    "processed['summary_vector'] = summary_vectors"
   ]
  },
  {
   "cell_type": "code",
   "execution_count": 21,
   "metadata": {},
   "outputs": [
    {
     "data": {
      "text/html": [
       "<div>\n",
       "<style scoped>\n",
       "    .dataframe tbody tr th:only-of-type {\n",
       "        vertical-align: middle;\n",
       "    }\n",
       "\n",
       "    .dataframe tbody tr th {\n",
       "        vertical-align: top;\n",
       "    }\n",
       "\n",
       "    .dataframe thead th {\n",
       "        text-align: right;\n",
       "    }\n",
       "</style>\n",
       "<table border=\"1\" class=\"dataframe\">\n",
       "  <thead>\n",
       "    <tr style=\"text-align: right;\">\n",
       "      <th></th>\n",
       "      <th>title</th>\n",
       "      <th>summary</th>\n",
       "      <th>title_vector</th>\n",
       "      <th>summary_vector</th>\n",
       "    </tr>\n",
       "  </thead>\n",
       "  <tbody>\n",
       "    <tr>\n",
       "      <th>4766</th>\n",
       "      <td>Harry Potter and the Philosopher's Stone</td>\n",
       "      <td>Harry Potter has lived under the stairs at his...</td>\n",
       "      <td>[0.14711046, 0.08602543, -0.042742576, -0.0879...</td>\n",
       "      <td>[0.007231035, 0.17376778, -0.08632122, 0.01730...</td>\n",
       "    </tr>\n",
       "    <tr>\n",
       "      <th>5678</th>\n",
       "      <td>Harry Potter and the Chamber of Secrets</td>\n",
       "      <td>Ignoring threats to his life, Harry returns to...</td>\n",
       "      <td>[0.10979699, 0.11679685, -0.07873614, -0.11134...</td>\n",
       "      <td>[-0.08677669, 0.11283945, -0.15686333, 0.04908...</td>\n",
       "    </tr>\n",
       "    <tr>\n",
       "      <th>7725</th>\n",
       "      <td>Harry Potter and the Prisoner of Azkaban</td>\n",
       "      <td>Harry, Ron and Hermione return to Hogwarts for...</td>\n",
       "      <td>[0.061607003, -0.09384886, -0.0041819983, -0.0...</td>\n",
       "      <td>[-0.0077857934, 0.15869738, -0.13243689, -0.00...</td>\n",
       "    </tr>\n",
       "    <tr>\n",
       "      <th>17437</th>\n",
       "      <td>Harry Potter and the Deathly Hallows: Part 2</td>\n",
       "      <td>Harry, Ron and Hermione continue their quest t...</td>\n",
       "      <td>[0.07672289, -0.08384389, -0.096302, -0.060086...</td>\n",
       "      <td>[-0.0021664782, 0.016848696, -0.12276313, -0.0...</td>\n",
       "    </tr>\n",
       "    <tr>\n",
       "      <th>10554</th>\n",
       "      <td>Harry Potter and the Goblet of Fire</td>\n",
       "      <td>Harry starts his fourth year at Hogwarts, comp...</td>\n",
       "      <td>[-0.011108716, -0.049533136, -0.06561043, -0.1...</td>\n",
       "      <td>[-0.02013416, 0.108690456, -0.06220861, -0.037...</td>\n",
       "    </tr>\n",
       "    <tr>\n",
       "      <th>16128</th>\n",
       "      <td>Harry Potter and the Deathly Hallows: Part 1</td>\n",
       "      <td>Harry, Ron and Hermione walk away from their l...</td>\n",
       "      <td>[0.05401389, -0.06443133, -0.07180156, -0.0186...</td>\n",
       "      <td>[-0.010623759, 0.12037627, -0.08234681, -0.007...</td>\n",
       "    </tr>\n",
       "    <tr>\n",
       "      <th>11927</th>\n",
       "      <td>Harry Potter and the Order of the Phoenix</td>\n",
       "      <td>Returning for his fifth year of study at Hogwa...</td>\n",
       "      <td>[0.03729488, -0.0061281826, -0.076897874, -0.1...</td>\n",
       "      <td>[0.011530182, 0.1461688, -0.09513208, 0.000799...</td>\n",
       "    </tr>\n",
       "    <tr>\n",
       "      <th>13893</th>\n",
       "      <td>Harry Potter and the Half-Blood Prince</td>\n",
       "      <td>As Harry begins his sixth year at Hogwarts, he...</td>\n",
       "      <td>[-0.0019846223, 0.01903063, -0.067967, -0.0175...</td>\n",
       "      <td>[0.022718994, 0.21176529, -0.08548818, 0.00756...</td>\n",
       "    </tr>\n",
       "  </tbody>\n",
       "</table>\n",
       "</div>"
      ],
      "text/plain": [
       "                                              title  \\\n",
       "4766       Harry Potter and the Philosopher's Stone   \n",
       "5678        Harry Potter and the Chamber of Secrets   \n",
       "7725       Harry Potter and the Prisoner of Azkaban   \n",
       "17437  Harry Potter and the Deathly Hallows: Part 2   \n",
       "10554           Harry Potter and the Goblet of Fire   \n",
       "16128  Harry Potter and the Deathly Hallows: Part 1   \n",
       "11927     Harry Potter and the Order of the Phoenix   \n",
       "13893        Harry Potter and the Half-Blood Prince   \n",
       "\n",
       "                                                 summary  \\\n",
       "4766   Harry Potter has lived under the stairs at his...   \n",
       "5678   Ignoring threats to his life, Harry returns to...   \n",
       "7725   Harry, Ron and Hermione return to Hogwarts for...   \n",
       "17437  Harry, Ron and Hermione continue their quest t...   \n",
       "10554  Harry starts his fourth year at Hogwarts, comp...   \n",
       "16128  Harry, Ron and Hermione walk away from their l...   \n",
       "11927  Returning for his fifth year of study at Hogwa...   \n",
       "13893  As Harry begins his sixth year at Hogwarts, he...   \n",
       "\n",
       "                                            title_vector  \\\n",
       "4766   [0.14711046, 0.08602543, -0.042742576, -0.0879...   \n",
       "5678   [0.10979699, 0.11679685, -0.07873614, -0.11134...   \n",
       "7725   [0.061607003, -0.09384886, -0.0041819983, -0.0...   \n",
       "17437  [0.07672289, -0.08384389, -0.096302, -0.060086...   \n",
       "10554  [-0.011108716, -0.049533136, -0.06561043, -0.1...   \n",
       "16128  [0.05401389, -0.06443133, -0.07180156, -0.0186...   \n",
       "11927  [0.03729488, -0.0061281826, -0.076897874, -0.1...   \n",
       "13893  [-0.0019846223, 0.01903063, -0.067967, -0.0175...   \n",
       "\n",
       "                                          summary_vector  \n",
       "4766   [0.007231035, 0.17376778, -0.08632122, 0.01730...  \n",
       "5678   [-0.08677669, 0.11283945, -0.15686333, 0.04908...  \n",
       "7725   [-0.0077857934, 0.15869738, -0.13243689, -0.00...  \n",
       "17437  [-0.0021664782, 0.016848696, -0.12276313, -0.0...  \n",
       "10554  [-0.02013416, 0.108690456, -0.06220861, -0.037...  \n",
       "16128  [-0.010623759, 0.12037627, -0.08234681, -0.007...  \n",
       "11927  [0.011530182, 0.1461688, -0.09513208, 0.000799...  \n",
       "13893  [0.022718994, 0.21176529, -0.08548818, 0.00756...  "
      ]
     },
     "execution_count": 21,
     "metadata": {},
     "output_type": "execute_result"
    }
   ],
   "source": [
    "harry_potter(processed)"
   ]
  },
  {
   "cell_type": "code",
   "execution_count": 22,
   "metadata": {},
   "outputs": [],
   "source": [
    "processed.to_csv('processed.csv', index=False)"
   ]
  }
 ],
 "metadata": {
  "kernelspec": {
   "display_name": "inverse-ai-venv",
   "language": "python",
   "name": "inverse-ai-venv"
  },
  "language_info": {
   "codemirror_mode": {
    "name": "ipython",
    "version": 3
   },
   "file_extension": ".py",
   "mimetype": "text/x-python",
   "name": "python",
   "nbconvert_exporter": "python",
   "pygments_lexer": "ipython3",
   "version": "3.8.0"
  }
 },
 "nbformat": 4,
 "nbformat_minor": 2
}
