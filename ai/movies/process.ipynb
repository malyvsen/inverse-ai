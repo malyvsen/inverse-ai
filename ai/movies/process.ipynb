{
 "cells": [
  {
   "cell_type": "markdown",
   "metadata": {},
   "source": [
    "# Movie plot processing\n",
    "We're reading a dataset containing movie popularities and keywords (`movies_metadata.csv` and `keywords.csv` downloaded from https://www.kaggle.com/rounakbanik/the-movies-dataset). In the end, we want to have the titles, summaries and keyword embeddings for some well-known movies."
   ]
  },
  {
   "cell_type": "code",
   "execution_count": 1,
   "metadata": {},
   "outputs": [],
   "source": [
    "import pandas as pd\n",
    "import numpy as np\n",
    "import json\n",
    "import spacy\n",
    "from sklearn.decomposition import PCA\n",
    "%matplotlib inline\n",
    "import matplotlib.pyplot as plt"
   ]
  },
  {
   "cell_type": "code",
   "execution_count": 2,
   "metadata": {},
   "outputs": [
    {
     "name": "stdout",
     "output_type": "stream",
     "text": [
      "metadata count: 45466\n"
     ]
    }
   ],
   "source": [
    "metadata = pd.read_csv('movies_metadata.csv', index_col='id', low_memory=False)\n",
    "print(f'metadata count: {len(metadata)}')"
   ]
  },
  {
   "cell_type": "markdown",
   "metadata": {},
   "source": [
    "It turns out that some of the ids don't get parsed well - le'ts just discard them."
   ]
  },
  {
   "cell_type": "code",
   "execution_count": 3,
   "metadata": {},
   "outputs": [
    {
     "name": "stdout",
     "output_type": "stream",
     "text": [
      "metadata count after cleaning: 45463\n"
     ]
    }
   ],
   "source": [
    "def isdigit(s):\n",
    "    return s.isdigit()\n",
    "\n",
    "metadata = metadata.loc[metadata.index.map(isdigit)]\n",
    "metadata.index = metadata.index.map(int)\n",
    "print(f'metadata count after cleaning: {len(metadata)}')"
   ]
  },
  {
   "cell_type": "code",
   "execution_count": 4,
   "metadata": {},
   "outputs": [
    {
     "name": "stdout",
     "output_type": "stream",
     "text": [
      "keywords count: 45463\n"
     ]
    }
   ],
   "source": [
    "keywords = pd.read_csv('keywords.csv', index_col='id')\n",
    "print(f'keywords count: {len(metadata)}')"
   ]
  },
  {
   "cell_type": "markdown",
   "metadata": {},
   "source": [
    "We only need to process well-known movies, so that people know what they are about given their title. After some experiments, popularity proved to be a poor measure of how well-known a movie is, with the total number of votes it has received (be it positive or negative ones) being much better an indicator."
   ]
  },
  {
   "cell_type": "code",
   "execution_count": 5,
   "metadata": {},
   "outputs": [],
   "source": [
    "well_known = metadata.nlargest(256, 'vote_count')\n",
    "joined = well_known.join(keywords)"
   ]
  },
  {
   "cell_type": "code",
   "execution_count": 6,
   "metadata": {},
   "outputs": [
    {
     "data": {
      "text/html": [
       "<div>\n",
       "<style scoped>\n",
       "    .dataframe tbody tr th:only-of-type {\n",
       "        vertical-align: middle;\n",
       "    }\n",
       "\n",
       "    .dataframe tbody tr th {\n",
       "        vertical-align: top;\n",
       "    }\n",
       "\n",
       "    .dataframe thead th {\n",
       "        text-align: right;\n",
       "    }\n",
       "</style>\n",
       "<table border=\"1\" class=\"dataframe\">\n",
       "  <thead>\n",
       "    <tr style=\"text-align: right;\">\n",
       "      <th></th>\n",
       "      <th>adult</th>\n",
       "      <th>belongs_to_collection</th>\n",
       "      <th>budget</th>\n",
       "      <th>genres</th>\n",
       "      <th>homepage</th>\n",
       "      <th>imdb_id</th>\n",
       "      <th>original_language</th>\n",
       "      <th>original_title</th>\n",
       "      <th>overview</th>\n",
       "      <th>popularity</th>\n",
       "      <th>...</th>\n",
       "      <th>revenue</th>\n",
       "      <th>runtime</th>\n",
       "      <th>spoken_languages</th>\n",
       "      <th>status</th>\n",
       "      <th>tagline</th>\n",
       "      <th>title</th>\n",
       "      <th>video</th>\n",
       "      <th>vote_average</th>\n",
       "      <th>vote_count</th>\n",
       "      <th>keywords</th>\n",
       "    </tr>\n",
       "    <tr>\n",
       "      <th>id</th>\n",
       "      <th></th>\n",
       "      <th></th>\n",
       "      <th></th>\n",
       "      <th></th>\n",
       "      <th></th>\n",
       "      <th></th>\n",
       "      <th></th>\n",
       "      <th></th>\n",
       "      <th></th>\n",
       "      <th></th>\n",
       "      <th></th>\n",
       "      <th></th>\n",
       "      <th></th>\n",
       "      <th></th>\n",
       "      <th></th>\n",
       "      <th></th>\n",
       "      <th></th>\n",
       "      <th></th>\n",
       "      <th></th>\n",
       "      <th></th>\n",
       "      <th></th>\n",
       "    </tr>\n",
       "  </thead>\n",
       "  <tbody>\n",
       "    <tr>\n",
       "      <th>11</th>\n",
       "      <td>False</td>\n",
       "      <td>{'id': 10, 'name': 'Star Wars Collection', 'po...</td>\n",
       "      <td>11000000</td>\n",
       "      <td>[{'id': 12, 'name': 'Adventure'}, {'id': 28, '...</td>\n",
       "      <td>http://www.starwars.com/films/star-wars-episod...</td>\n",
       "      <td>tt0076759</td>\n",
       "      <td>en</td>\n",
       "      <td>Star Wars</td>\n",
       "      <td>Princess Leia is captured and held hostage by ...</td>\n",
       "      <td>42.149697</td>\n",
       "      <td>...</td>\n",
       "      <td>775398007.0</td>\n",
       "      <td>121.0</td>\n",
       "      <td>[{'iso_639_1': 'en', 'name': 'English'}]</td>\n",
       "      <td>Released</td>\n",
       "      <td>A long time ago in a galaxy far, far away...</td>\n",
       "      <td>Star Wars</td>\n",
       "      <td>False</td>\n",
       "      <td>8.1</td>\n",
       "      <td>6778.0</td>\n",
       "      <td>[{'id': 803, 'name': 'android'}, {'id': 4270, ...</td>\n",
       "    </tr>\n",
       "    <tr>\n",
       "      <th>12</th>\n",
       "      <td>False</td>\n",
       "      <td>{'id': 137697, 'name': 'Finding Nemo Collectio...</td>\n",
       "      <td>94000000</td>\n",
       "      <td>[{'id': 16, 'name': 'Animation'}, {'id': 10751...</td>\n",
       "      <td>http://movies.disney.com/finding-nemo</td>\n",
       "      <td>tt0266543</td>\n",
       "      <td>en</td>\n",
       "      <td>Finding Nemo</td>\n",
       "      <td>Nemo, an adventurous young clownfish, is unexp...</td>\n",
       "      <td>25.497794</td>\n",
       "      <td>...</td>\n",
       "      <td>940335536.0</td>\n",
       "      <td>100.0</td>\n",
       "      <td>[{'iso_639_1': 'en', 'name': 'English'}]</td>\n",
       "      <td>Released</td>\n",
       "      <td>There are 3.7 trillion fish in the ocean. They...</td>\n",
       "      <td>Finding Nemo</td>\n",
       "      <td>False</td>\n",
       "      <td>7.6</td>\n",
       "      <td>6292.0</td>\n",
       "      <td>[{'id': 494, 'name': 'father son relationship'...</td>\n",
       "    </tr>\n",
       "    <tr>\n",
       "      <th>13</th>\n",
       "      <td>False</td>\n",
       "      <td>NaN</td>\n",
       "      <td>55000000</td>\n",
       "      <td>[{'id': 35, 'name': 'Comedy'}, {'id': 18, 'nam...</td>\n",
       "      <td>NaN</td>\n",
       "      <td>tt0109830</td>\n",
       "      <td>en</td>\n",
       "      <td>Forrest Gump</td>\n",
       "      <td>A man with a low IQ has accomplished great thi...</td>\n",
       "      <td>48.307194</td>\n",
       "      <td>...</td>\n",
       "      <td>677945399.0</td>\n",
       "      <td>142.0</td>\n",
       "      <td>[{'iso_639_1': 'en', 'name': 'English'}]</td>\n",
       "      <td>Released</td>\n",
       "      <td>The world will never be the same, once you've ...</td>\n",
       "      <td>Forrest Gump</td>\n",
       "      <td>False</td>\n",
       "      <td>8.2</td>\n",
       "      <td>8147.0</td>\n",
       "      <td>[{'id': 422, 'name': 'vietnam veteran'}, {'id'...</td>\n",
       "    </tr>\n",
       "    <tr>\n",
       "      <th>14</th>\n",
       "      <td>False</td>\n",
       "      <td>NaN</td>\n",
       "      <td>15000000</td>\n",
       "      <td>[{'id': 18, 'name': 'Drama'}]</td>\n",
       "      <td>http://www.dreamworks.com/ab/</td>\n",
       "      <td>tt0169547</td>\n",
       "      <td>en</td>\n",
       "      <td>American Beauty</td>\n",
       "      <td>Lester Burnham, a depressed suburban father in...</td>\n",
       "      <td>20.726578</td>\n",
       "      <td>...</td>\n",
       "      <td>356296601.0</td>\n",
       "      <td>122.0</td>\n",
       "      <td>[{'iso_639_1': 'en', 'name': 'English'}]</td>\n",
       "      <td>Released</td>\n",
       "      <td>Look closer.</td>\n",
       "      <td>American Beauty</td>\n",
       "      <td>False</td>\n",
       "      <td>7.9</td>\n",
       "      <td>3438.0</td>\n",
       "      <td>[{'id': 255, 'name': 'male nudity'}, {'id': 29...</td>\n",
       "    </tr>\n",
       "    <tr>\n",
       "      <th>18</th>\n",
       "      <td>False</td>\n",
       "      <td>NaN</td>\n",
       "      <td>90000000</td>\n",
       "      <td>[{'id': 12, 'name': 'Adventure'}, {'id': 14, '...</td>\n",
       "      <td>NaN</td>\n",
       "      <td>tt0119116</td>\n",
       "      <td>en</td>\n",
       "      <td>The Fifth Element</td>\n",
       "      <td>In 2257, a taxi driver is unintentionally give...</td>\n",
       "      <td>24.30526</td>\n",
       "      <td>...</td>\n",
       "      <td>263920180.0</td>\n",
       "      <td>126.0</td>\n",
       "      <td>[{'iso_639_1': 'en', 'name': 'English'}, {'iso...</td>\n",
       "      <td>Released</td>\n",
       "      <td>There is no future without it.</td>\n",
       "      <td>The Fifth Element</td>\n",
       "      <td>False</td>\n",
       "      <td>7.3</td>\n",
       "      <td>3962.0</td>\n",
       "      <td>[{'id': 402, 'name': 'clone'}, {'id': 444, 'na...</td>\n",
       "    </tr>\n",
       "  </tbody>\n",
       "</table>\n",
       "<p>5 rows × 24 columns</p>\n",
       "</div>"
      ],
      "text/plain": [
       "    adult                              belongs_to_collection    budget  \\\n",
       "id                                                                       \n",
       "11  False  {'id': 10, 'name': 'Star Wars Collection', 'po...  11000000   \n",
       "12  False  {'id': 137697, 'name': 'Finding Nemo Collectio...  94000000   \n",
       "13  False                                                NaN  55000000   \n",
       "14  False                                                NaN  15000000   \n",
       "18  False                                                NaN  90000000   \n",
       "\n",
       "                                               genres  \\\n",
       "id                                                      \n",
       "11  [{'id': 12, 'name': 'Adventure'}, {'id': 28, '...   \n",
       "12  [{'id': 16, 'name': 'Animation'}, {'id': 10751...   \n",
       "13  [{'id': 35, 'name': 'Comedy'}, {'id': 18, 'nam...   \n",
       "14                      [{'id': 18, 'name': 'Drama'}]   \n",
       "18  [{'id': 12, 'name': 'Adventure'}, {'id': 14, '...   \n",
       "\n",
       "                                             homepage    imdb_id  \\\n",
       "id                                                                 \n",
       "11  http://www.starwars.com/films/star-wars-episod...  tt0076759   \n",
       "12              http://movies.disney.com/finding-nemo  tt0266543   \n",
       "13                                                NaN  tt0109830   \n",
       "14                      http://www.dreamworks.com/ab/  tt0169547   \n",
       "18                                                NaN  tt0119116   \n",
       "\n",
       "   original_language     original_title  \\\n",
       "id                                        \n",
       "11                en          Star Wars   \n",
       "12                en       Finding Nemo   \n",
       "13                en       Forrest Gump   \n",
       "14                en    American Beauty   \n",
       "18                en  The Fifth Element   \n",
       "\n",
       "                                             overview popularity  ...  \\\n",
       "id                                                                ...   \n",
       "11  Princess Leia is captured and held hostage by ...  42.149697  ...   \n",
       "12  Nemo, an adventurous young clownfish, is unexp...  25.497794  ...   \n",
       "13  A man with a low IQ has accomplished great thi...  48.307194  ...   \n",
       "14  Lester Burnham, a depressed suburban father in...  20.726578  ...   \n",
       "18  In 2257, a taxi driver is unintentionally give...   24.30526  ...   \n",
       "\n",
       "        revenue runtime                                   spoken_languages  \\\n",
       "id                                                                           \n",
       "11  775398007.0   121.0           [{'iso_639_1': 'en', 'name': 'English'}]   \n",
       "12  940335536.0   100.0           [{'iso_639_1': 'en', 'name': 'English'}]   \n",
       "13  677945399.0   142.0           [{'iso_639_1': 'en', 'name': 'English'}]   \n",
       "14  356296601.0   122.0           [{'iso_639_1': 'en', 'name': 'English'}]   \n",
       "18  263920180.0   126.0  [{'iso_639_1': 'en', 'name': 'English'}, {'iso...   \n",
       "\n",
       "      status                                            tagline  \\\n",
       "id                                                                \n",
       "11  Released       A long time ago in a galaxy far, far away...   \n",
       "12  Released  There are 3.7 trillion fish in the ocean. They...   \n",
       "13  Released  The world will never be the same, once you've ...   \n",
       "14  Released                                       Look closer.   \n",
       "18  Released                     There is no future without it.   \n",
       "\n",
       "                title  video vote_average vote_count  \\\n",
       "id                                                     \n",
       "11          Star Wars  False          8.1     6778.0   \n",
       "12       Finding Nemo  False          7.6     6292.0   \n",
       "13       Forrest Gump  False          8.2     8147.0   \n",
       "14    American Beauty  False          7.9     3438.0   \n",
       "18  The Fifth Element  False          7.3     3962.0   \n",
       "\n",
       "                                             keywords  \n",
       "id                                                     \n",
       "11  [{'id': 803, 'name': 'android'}, {'id': 4270, ...  \n",
       "12  [{'id': 494, 'name': 'father son relationship'...  \n",
       "13  [{'id': 422, 'name': 'vietnam veteran'}, {'id'...  \n",
       "14  [{'id': 255, 'name': 'male nudity'}, {'id': 29...  \n",
       "18  [{'id': 402, 'name': 'clone'}, {'id': 444, 'na...  \n",
       "\n",
       "[5 rows x 24 columns]"
      ]
     },
     "execution_count": 6,
     "metadata": {},
     "output_type": "execute_result"
    }
   ],
   "source": [
    "joined.head()"
   ]
  },
  {
   "cell_type": "code",
   "execution_count": 7,
   "metadata": {},
   "outputs": [],
   "source": [
    "selected = pd.DataFrame()\n",
    "selected['title'] = joined['original_title']"
   ]
  },
  {
   "cell_type": "code",
   "execution_count": 8,
   "metadata": {},
   "outputs": [],
   "source": [
    "def extract_keywords(keywords_str):\n",
    "    keywords_list = eval(keywords_str) # keywords_str looks a bit like json, but it's actually python syntax\n",
    "    return ' '.join(keyword['name'] for keyword in keywords_list)\n",
    "\n",
    "selected['keywords'] = joined['keywords'].map(extract_keywords)"
   ]
  },
  {
   "cell_type": "code",
   "execution_count": 9,
   "metadata": {},
   "outputs": [
    {
     "data": {
      "text/html": [
       "<div>\n",
       "<style scoped>\n",
       "    .dataframe tbody tr th:only-of-type {\n",
       "        vertical-align: middle;\n",
       "    }\n",
       "\n",
       "    .dataframe tbody tr th {\n",
       "        vertical-align: top;\n",
       "    }\n",
       "\n",
       "    .dataframe thead th {\n",
       "        text-align: right;\n",
       "    }\n",
       "</style>\n",
       "<table border=\"1\" class=\"dataframe\">\n",
       "  <thead>\n",
       "    <tr style=\"text-align: right;\">\n",
       "      <th></th>\n",
       "      <th>title</th>\n",
       "      <th>keywords</th>\n",
       "    </tr>\n",
       "    <tr>\n",
       "      <th>id</th>\n",
       "      <th></th>\n",
       "      <th></th>\n",
       "    </tr>\n",
       "  </thead>\n",
       "  <tbody>\n",
       "    <tr>\n",
       "      <th>11</th>\n",
       "      <td>Star Wars</td>\n",
       "      <td>android galaxy hermit death star lightsaber je...</td>\n",
       "    </tr>\n",
       "    <tr>\n",
       "      <th>12</th>\n",
       "      <td>Finding Nemo</td>\n",
       "      <td>father son relationship harbor underwater fish...</td>\n",
       "    </tr>\n",
       "    <tr>\n",
       "      <th>13</th>\n",
       "      <td>Forrest Gump</td>\n",
       "      <td>vietnam veteran hippie mentally disabled runni...</td>\n",
       "    </tr>\n",
       "    <tr>\n",
       "      <th>14</th>\n",
       "      <td>American Beauty</td>\n",
       "      <td>male nudity female nudity adultery parent chil...</td>\n",
       "    </tr>\n",
       "    <tr>\n",
       "      <th>18</th>\n",
       "      <td>The Fifth Element</td>\n",
       "      <td>clone taxi cyborg egypt future stowaway space ...</td>\n",
       "    </tr>\n",
       "  </tbody>\n",
       "</table>\n",
       "</div>"
      ],
      "text/plain": [
       "                title                                           keywords\n",
       "id                                                                      \n",
       "11          Star Wars  android galaxy hermit death star lightsaber je...\n",
       "12       Finding Nemo  father son relationship harbor underwater fish...\n",
       "13       Forrest Gump  vietnam veteran hippie mentally disabled runni...\n",
       "14    American Beauty  male nudity female nudity adultery parent chil...\n",
       "18  The Fifth Element  clone taxi cyborg egypt future stowaway space ..."
      ]
     },
     "execution_count": 9,
     "metadata": {},
     "output_type": "execute_result"
    }
   ],
   "source": [
    "selected.head()"
   ]
  },
  {
   "cell_type": "markdown",
   "metadata": {},
   "source": [
    "## It's NLP time!"
   ]
  },
  {
   "cell_type": "code",
   "execution_count": 10,
   "metadata": {},
   "outputs": [],
   "source": [
    "nlp = spacy.load('en_core_web_lg')"
   ]
  },
  {
   "cell_type": "code",
   "execution_count": 11,
   "metadata": {},
   "outputs": [
    {
     "data": {
      "image/png": "[encoded data removed]",
      "text/plain": [
       "<Figure size 432x288 with 1 Axes>"
      ]
     },
     "metadata": {
      "needs_background": "light"
     },
     "output_type": "display_data"
    }
   ],
   "source": [
    "plt.title('distribution of keyword count')\n",
    "plt.hist(selected['keywords'].map(nlp).map(len))\n",
    "plt.xlabel('number of keywords')\n",
    "plt.ylabel('number of movies')\n",
    "plt.show()"
   ]
  },
  {
   "cell_type": "code",
   "execution_count": 12,
   "metadata": {},
   "outputs": [],
   "source": [
    "keyword_vectors = [nlp(keywords).vector for keywords in selected['keywords']]"
   ]
  },
  {
   "cell_type": "code",
   "execution_count": 13,
   "metadata": {},
   "outputs": [
    {
     "data": {
      "image/png": "[encoded data removed]",
      "text/plain": [
       "<Figure size 432x288 with 1 Axes>"
      ]
     },
     "metadata": {
      "needs_background": "light"
     },
     "output_type": "display_data"
    }
   ],
   "source": [
    "pca = PCA().fit(keyword_vectors)\n",
    "plt.title('variance vs principal components')\n",
    "plt.plot(np.cumsum(pca.explained_variance_ratio_))\n",
    "plt.xlabel('number of principal components')\n",
    "plt.ylabel('cumulative variance explained')\n",
    "plt.show()"
   ]
  },
  {
   "cell_type": "code",
   "execution_count": 14,
   "metadata": {},
   "outputs": [
    {
     "data": {
      "image/png": "[encoded data removed]",
      "text/plain": [
       "<Figure size 432x288 with 1 Axes>"
      ]
     },
     "metadata": {
      "needs_background": "light"
     },
     "output_type": "display_data"
    }
   ],
   "source": [
    "keyword_vectors_reduced = pca.transform(keyword_vectors)\n",
    "plt.title('distribution of norms of reduced vectors')\n",
    "plt.hist([np.linalg.norm(vector) for vector in keyword_vectors_reduced])\n",
    "plt.show()"
   ]
  },
  {
   "cell_type": "code",
   "execution_count": 15,
   "metadata": {},
   "outputs": [
    {
     "data": {
      "text/html": [
       "<div>\n",
       "<style scoped>\n",
       "    .dataframe tbody tr th:only-of-type {\n",
       "        vertical-align: middle;\n",
       "    }\n",
       "\n",
       "    .dataframe tbody tr th {\n",
       "        vertical-align: top;\n",
       "    }\n",
       "\n",
       "    .dataframe thead th {\n",
       "        text-align: right;\n",
       "    }\n",
       "</style>\n",
       "<table border=\"1\" class=\"dataframe\">\n",
       "  <thead>\n",
       "    <tr style=\"text-align: right;\">\n",
       "      <th></th>\n",
       "      <th>title</th>\n",
       "      <th>keywords</th>\n",
       "      <th>vector</th>\n",
       "    </tr>\n",
       "    <tr>\n",
       "      <th>id</th>\n",
       "      <th></th>\n",
       "      <th></th>\n",
       "      <th></th>\n",
       "    </tr>\n",
       "  </thead>\n",
       "  <tbody>\n",
       "    <tr>\n",
       "      <th>11</th>\n",
       "      <td>Star Wars</td>\n",
       "      <td>android galaxy hermit death star lightsaber je...</td>\n",
       "      <td>5.71789520e-01 -8.73745630e-01 -4.99413281e-0...</td>\n",
       "    </tr>\n",
       "    <tr>\n",
       "      <th>12</th>\n",
       "      <td>Finding Nemo</td>\n",
       "      <td>father son relationship harbor underwater fish...</td>\n",
       "      <td>-8.30518544e-01 -1.03803105e-01  3.63034820e-0...</td>\n",
       "    </tr>\n",
       "    <tr>\n",
       "      <th>13</th>\n",
       "      <td>Forrest Gump</td>\n",
       "      <td>vietnam veteran hippie mentally disabled runni...</td>\n",
       "      <td>-7.64560936e-01  7.63249804e-02  7.34135047e-0...</td>\n",
       "    </tr>\n",
       "    <tr>\n",
       "      <th>14</th>\n",
       "      <td>American Beauty</td>\n",
       "      <td>male nudity female nudity adultery parent chil...</td>\n",
       "      <td>-5.70997163e-01  7.44527247e-01  1.75903307e-0...</td>\n",
       "    </tr>\n",
       "    <tr>\n",
       "      <th>18</th>\n",
       "      <td>The Fifth Element</td>\n",
       "      <td>clone taxi cyborg egypt future stowaway space ...</td>\n",
       "      <td>-3.02444145e-01 -3.78780165e-01 -9.56868605e-0...</td>\n",
       "    </tr>\n",
       "  </tbody>\n",
       "</table>\n",
       "</div>"
      ],
      "text/plain": [
       "                title                                           keywords  \\\n",
       "id                                                                         \n",
       "11          Star Wars  android galaxy hermit death star lightsaber je...   \n",
       "12       Finding Nemo  father son relationship harbor underwater fish...   \n",
       "13       Forrest Gump  vietnam veteran hippie mentally disabled runni...   \n",
       "14    American Beauty  male nudity female nudity adultery parent chil...   \n",
       "18  The Fifth Element  clone taxi cyborg egypt future stowaway space ...   \n",
       "\n",
       "                                               vector  \n",
       "id                                                     \n",
       "11   5.71789520e-01 -8.73745630e-01 -4.99413281e-0...  \n",
       "12  -8.30518544e-01 -1.03803105e-01  3.63034820e-0...  \n",
       "13  -7.64560936e-01  7.63249804e-02  7.34135047e-0...  \n",
       "14  -5.70997163e-01  7.44527247e-01  1.75903307e-0...  \n",
       "18  -3.02444145e-01 -3.78780165e-01 -9.56868605e-0...  "
      ]
     },
     "execution_count": 15,
     "metadata": {},
     "output_type": "execute_result"
    }
   ],
   "source": [
    "selected['vector'] = [np.array2string(vector)[1:-1] for vector in keyword_vectors_reduced] # convert so that csv is parsed nicely\n",
    "selected.head()"
   ]
  },
  {
   "cell_type": "code",
   "execution_count": 16,
   "metadata": {},
   "outputs": [],
   "source": [
    "selected.to_csv('processed.csv', index=False)"
   ]
  }
 ],
 "metadata": {
  "kernelspec": {
   "display_name": "inverse-ai-venv",
   "language": "python",
   "name": "inverse-ai-venv"
  },
  "language_info": {
   "codemirror_mode": {
    "name": "ipython",
    "version": 3
   },
   "file_extension": ".py",
   "mimetype": "text/x-python",
   "name": "python",
   "nbconvert_exporter": "python",
   "pygments_lexer": "ipython3",
   "version": "3.7.5"
  }
 },
 "nbformat": 4,
 "nbformat_minor": 2
}
